{
 "cells": [
  {
   "cell_type": "code",
   "execution_count": 13,
   "metadata": {},
   "outputs": [
    {
     "name": "stdout",
     "output_type": "stream",
     "text": [
      "Requirement already satisfied: numpy in c:\\users\\sun.studio\\appdata\\local\\programs\\python\\python312\\lib\\site-packages (2.1.1)\n",
      "Note: you may need to restart the kernel to use updated packages.\n",
      "Requirement already satisfied: matplotlib in c:\\users\\sun.studio\\appdata\\local\\programs\\python\\python312\\lib\\site-packages (3.9.2)Note: you may need to restart the kernel to use updated packages.\n",
      "\n",
      "Requirement already satisfied: contourpy>=1.0.1 in c:\\users\\sun.studio\\appdata\\local\\programs\\python\\python312\\lib\\site-packages (from matplotlib) (1.3.0)\n",
      "Requirement already satisfied: cycler>=0.10 in c:\\users\\sun.studio\\appdata\\local\\programs\\python\\python312\\lib\\site-packages (from matplotlib) (0.12.1)\n",
      "Requirement already satisfied: fonttools>=4.22.0 in c:\\users\\sun.studio\\appdata\\local\\programs\\python\\python312\\lib\\site-packages (from matplotlib) (4.54.1)\n",
      "Requirement already satisfied: kiwisolver>=1.3.1 in c:\\users\\sun.studio\\appdata\\local\\programs\\python\\python312\\lib\\site-packages (from matplotlib) (1.4.7)\n",
      "Requirement already satisfied: numpy>=1.23 in c:\\users\\sun.studio\\appdata\\local\\programs\\python\\python312\\lib\\site-packages (from matplotlib) (2.1.1)\n",
      "Requirement already satisfied: packaging>=20.0 in c:\\users\\sun.studio\\appdata\\roaming\\python\\python312\\site-packages (from matplotlib) (24.1)\n",
      "Requirement already satisfied: pillow>=8 in c:\\users\\sun.studio\\appdata\\local\\programs\\python\\python312\\lib\\site-packages (from matplotlib) (10.4.0)\n",
      "Requirement already satisfied: pyparsing>=2.3.1 in c:\\users\\sun.studio\\appdata\\local\\programs\\python\\python312\\lib\\site-packages (from matplotlib) (3.1.4)\n",
      "Requirement already satisfied: python-dateutil>=2.7 in c:\\users\\sun.studio\\appdata\\roaming\\python\\python312\\site-packages (from matplotlib) (2.9.0.post0)\n",
      "Requirement already satisfied: six>=1.5 in c:\\users\\sun.studio\\appdata\\roaming\\python\\python312\\site-packages (from python-dateutil>=2.7->matplotlib) (1.16.0)\n"
     ]
    }
   ],
   "source": [
    "\n",
    "%pip install numpy\n",
    "%pip install matplotlib\n",
    "\n",
    "import numpy as np\n",
    "import matplotlib.pyplot as plt\n",
    "\n",
    "from PIL import Image"
   ]
  },
  {
   "cell_type": "code",
   "execution_count": 14,
   "metadata": {},
   "outputs": [],
   "source": [
    "import numpy as np\n",
    "import matplotlib.pyplot as plt\n",
    "\n",
    "def show_image(image):\n",
    "    plt.imshow(image)\n",
    "    plt.axis('off')\n",
    "    plt.show()\n",
    "\n",
    "\n"
   ]
  },
  {
   "cell_type": "code",
   "execution_count": 29,
   "metadata": {},
   "outputs": [
    {
     "data": {
      "image/png": "[encoded data removed]",
      "text/plain": [
       "<Figure size 640x480 with 1 Axes>"
      ]
     },
     "metadata": {},
     "output_type": "display_data"
    }
   ],
   "source": [
    "image_width = 1000\n",
    "image_height = 1000\n",
    "image = np.zeros((image_width, image_height, 3), dtype=np.uint8)\n",
    "\n",
    "image_world_origin = [0,0]\n",
    "image_world_width = 10\n",
    "image_world_height = 10\n",
    "\n",
    "pos_a = [2.0,2.0]\n",
    "pos_b = [5.0,8.0]\n",
    "pos_c = [8.0,2.0]\n",
    "\n",
    "color_a = [255.0,0.0,0.0] # red\n",
    "color_b = [0.0,255.0,0.0] # green\n",
    "color_c = [0.0,0.0,255.0] # blue\n",
    "color_background = [0.0,0.0,0.0]\n",
    "\n",
    "vec_ab = np.array(pos_b) - np.array(pos_a)\n",
    "vec_ac = np.array(pos_c) - np.array(pos_a)\n",
    "vec_bc = np.array(pos_c) - np.array(pos_b)\n",
    "\n",
    "\n",
    "def cross_product(a,b):\n",
    "    return a[0]*b[1] - a[1]*b[0]\n",
    "\n",
    "def dot_product(a,b):\n",
    "    return a[0]*b[0] + a[1]*b[1]\n",
    "\n",
    "def magnitude(a):\n",
    "    return np.sqrt(a[0]**2 + a[1]**2)\n",
    "\n",
    "def triangle_area(a,b,c):\n",
    "    return 0.5 * cross_product(np.array(b) - np.array(a), np.array(c) - np.array(a))\n",
    "\n",
    "\n",
    "def add_color_to_image(image, x, y, color):\n",
    "    image[x,y] = color\n",
    "\n",
    "def image_to_world(image_x, image_y):\n",
    "    return [\n",
    "        image_world_origin[0] + (image_x / image_width) * image_world_width,\n",
    "        image_world_origin[1] + (image_y / image_height) * image_world_height\n",
    "    ]\n",
    "\n",
    "def world_to_image(world_x, world_y):\n",
    "    return [\n",
    "        int((world_x - image_world_origin[0]) / image_world_width * image_width),\n",
    "        int((world_y - image_world_origin[1]) / image_world_height * image_height)\n",
    "    ]\n",
    "\n",
    "\n",
    "area_abc = triangle_area(pos_a, pos_b, pos_c)\n",
    "for x in range(image_width):\n",
    "    for y in range(image_height):\n",
    "        pos_p = image_to_world(x,y)\n",
    "\n",
    "        area_abp = triangle_area(pos_a, pos_b, pos_p)\n",
    "        area_bcp = triangle_area(pos_b, pos_c, pos_p)\n",
    "        area_cap = triangle_area(pos_c, pos_a, pos_p)\n",
    "\n",
    "        alpha_a = area_bcp / area_abc\n",
    "        alpha_b = area_cap / area_abc\n",
    "        alpha_c = area_abp / area_abc\n",
    "\n",
    "        color_p = alpha_a * np.array(color_a) + alpha_b * np.array(color_b) + alpha_c * np.array(color_c)\n",
    "\n",
    "\n",
    "        if alpha_a >= 0 and alpha_b >= 0 and alpha_c >= 0:\n",
    "            add_color_to_image(image, x, y, color_p.astype(np.uint8))\n",
    "        else:\n",
    "            add_color_to_image(image, x, y, color_background)\n",
    "\n",
    "show_image(image)\n",
    "\n",
    "\n",
    "\n",
    "\n",
    "\n"
   ]
  }
 ],
 "metadata": {
  "kernelspec": {
   "display_name": "Python 3",
   "language": "python",
   "name": "python3"
  },
  "language_info": {
   "codemirror_mode": {
    "name": "ipython",
    "version": 3
   },
   "file_extension": ".py",
   "mimetype": "text/x-python",
   "name": "python",
   "nbconvert_exporter": "python",
   "pygments_lexer": "ipython3",
   "version": "3.12.6"
  }
 },
 "nbformat": 4,
 "nbformat_minor": 2
}
